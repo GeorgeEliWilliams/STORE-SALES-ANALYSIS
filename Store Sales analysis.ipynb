{
 "cells": [
  {
   "cell_type": "code",
   "execution_count": 3,
   "metadata": {},
   "outputs": [
    {
     "data": {
      "text/plain": [
       "'Store Sales Review\\n\\n\\n\\nAzubi store has products that customers love. Below are the products, prices and the number of customers that patronize each product last week.\\n\\nThe owner wants you to do some analysis on data with these criteria\\'s:\\n\\n    -calculate the total price average for all products\\n\\n    -create a new price list that reduces the old prices by GHC5\\n\\n    -calculate the total revenue generated from the products\\n\\n    -calculate the average daily revenue generated from the products\\n\\n    -based on the new prices, which products are less than GHC30 \\n\\nBelow is the data you are to use for the problem :\\n\\nproducts = [\"Sankofa Foods\", \"Jamestown Coffee\", \"Bioko Chocolate\", \"Blue Skies Ice Cream\", \"Fair Afric Chocolate\", \"Kawa Moka Coffee\", \"Aphro Spirit\", \"Mensado Bissap\", \"Voltic\"]\\n\\nprices = [30, 25, 40, 20, 20, 35, 45, 50, 35]\\n\\nlast_week = [2, 3, 5, 8, 4, 4, 6, 2, 9] '"
      ]
     },
     "execution_count": 3,
     "metadata": {},
     "output_type": "execute_result"
    }
   ],
   "source": [
    "\"\"\"Store Sales Review\n",
    "\n",
    "\n",
    "\n",
    "A store has products that customers love. Below are the products, prices and the number of customers that patronize each product last week.\n",
    "\n",
    "The owner wants you to do some analysis on data with these criteria's:\n",
    "\n",
    "    -calculate the total price average for all products\n",
    "\n",
    "    -create a new price list that reduces the old prices by GHC5\n",
    "\n",
    "    -calculate the total revenue generated from the products\n",
    "\n",
    "    -calculate the average daily revenue generated from the products\n",
    "\n",
    "    -based on the new prices, which products are less than GHC30 \n",
    "\n",
    "Below is the data you are to use for the problem :\n",
    "\n",
    "products = [\"Sankofa Foods\", \"Jamestown Coffee\", \"Bioko Chocolate\", \"Blue Skies Ice Cream\", \"Fair Afric Chocolate\", \"Kawa Moka Coffee\", \"Aphro Spirit\", \"Mensado Bissap\", \"Voltic\"]\n",
    "\n",
    "prices = [30, 25, 40, 20, 20, 35, 45, 50, 35]\n",
    "\n",
    "last_week = [2, 3, 5, 8, 4, 4, 6, 2, 9] \"\"\""
   ]
  },
  {
   "cell_type": "code",
   "execution_count": 4,
   "metadata": {},
   "outputs": [],
   "source": [
    "products = [\"Sankofa Foods\", \"Jamestown Coffee\", \"Bioko Chocolate\", \"Blue Skies Ice Cream\", \"Fair Afric Chocolate\", \"Kawa Moka Coffee\", \"Aphro Spirit\", \"Mensado Bissap\", \"Voltic\"]\n",
    "\n",
    "prices = [30, 25, 40, 20, 20, 35, 45, 50, 35]\n",
    "\n",
    "last_week = [2, 3, 5, 8, 4, 4, 6, 2, 9]"
   ]
  },
  {
   "cell_type": "code",
   "execution_count": 5,
   "metadata": {},
   "outputs": [
    {
     "name": "stdout",
     "output_type": "stream",
     "text": [
      "The total price average for all products : GHS 33.33\n"
     ]
    }
   ],
   "source": [
    "#calculate the total price average for all products\n",
    "average_product = sum(prices)/len(prices)\n",
    "print (f'The total price average for all products : GHS {round(average_product,2)}')"
   ]
  },
  {
   "cell_type": "code",
   "execution_count": 6,
   "metadata": {},
   "outputs": [
    {
     "name": "stdout",
     "output_type": "stream",
     "text": [
      "The new price list: [25, 20, 35, 15, 15, 30, 40, 45, 30]\n"
     ]
    }
   ],
   "source": [
    "#create a new price list that reduces the old prices by GHC5\n",
    "new_prices=[]\n",
    "for price in prices:\n",
    "    new_price= price-5\n",
    "    new_prices.append(new_price)\n",
    "\n",
    "print(f'The new price list: {new_prices}')\n",
    "products = [\"Sankofa Foods\", \"Jamestown Coffee\", \"Bioko Chocolate\", \"Blue Skies Ice Cream\", \"Fair Afric Chocolate\", \"Kawa Moka Coffee\", \"Aphro Spirit\", \"Mensado Bissap\", \"Voltic\"]\n"
   ]
  },
  {
   "cell_type": "code",
   "execution_count": 7,
   "metadata": {},
   "outputs": [
    {
     "name": "stdout",
     "output_type": "stream",
     "text": [
      "[60, 75, 200, 160, 80, 140, 270, 100, 315]\n",
      "The total revenue generated from the products is GHS 1400\n"
     ]
    }
   ],
   "source": [
    "#calculate the total revenue generated from the products\n",
    "total_rev=[]\n",
    "i=0\n",
    "while i <len(prices):\n",
    "    rev= prices[i] * last_week[i]\n",
    "    total_rev.append(rev)\n",
    "    i+=1\n",
    "print(total_rev)\n",
    "total_revenue= sum(total_rev)\n",
    "print(f'The total revenue generated from the products is GHS {total_revenue}')"
   ]
  },
  {
   "cell_type": "code",
   "execution_count": 8,
   "metadata": {},
   "outputs": [
    {
     "name": "stdout",
     "output_type": "stream",
     "text": [
      "The average daily revenue generated from the products is GHS 200.0\n"
     ]
    }
   ],
   "source": [
    "#calculate the average daily revenue generated from the products\n",
    "avg_daily_rev = total_revenue/7\n",
    "print(f'The average daily revenue generated from the products is GHS {avg_daily_rev}')"
   ]
  },
  {
   "cell_type": "code",
   "execution_count": 10,
   "metadata": {},
   "outputs": [
    {
     "name": "stdout",
     "output_type": "stream",
     "text": [
      "Products less than GHS 30\n",
      "Sankofa Foods : GHS 25\n",
      "Jamestown Coffee : GHS 20\n",
      "Blue Skies Ice Cream : GHS 15\n",
      "Fair Afric Chocolate : GHS 15\n"
     ]
    }
   ],
   "source": [
    "#based on the new prices, which products are less than GHC30\n",
    "print('Products less than GHS 30')\n",
    "i=0\n",
    "while i<len(prices):\n",
    "    if new_prices[i]<30:\n",
    "        print(f'{products[i]} : GHS {new_prices[i]}')\n",
    "    i+=1"
   ]
  }
 ],
 "metadata": {
  "kernelspec": {
   "display_name": "Python 3 (ipykernel)",
   "language": "python",
   "name": "python3"
  },
  "language_info": {
   "codemirror_mode": {
    "name": "ipython",
    "version": 3
   },
   "file_extension": ".py",
   "mimetype": "text/x-python",
   "name": "python",
   "nbconvert_exporter": "python",
   "pygments_lexer": "ipython3",
   "version": "3.9.7"
  },
  "vscode": {
   "interpreter": {
    "hash": "0bac663df009b53122217429cbd790f92a9841728e5baea49cf1b4cb39e09ae6"
   }
  }
 },
 "nbformat": 4,
 "nbformat_minor": 2
}
